{
 "cells": [
  {
   "cell_type": "markdown",
   "metadata": {},
   "source": [
    "# Clase 5"
   ]
  },
  {
   "cell_type": "code",
   "execution_count": 321,
   "metadata": {},
   "outputs": [],
   "source": [
    "import numpy as np\n",
    "import matplotlib.pyplot as plt\n",
    "import pandas as pd\n",
    "from sklearn import datasets, linear_model\n",
    "from sklearn.metrics import mean_squared_error, r2_score"
   ]
  },
  {
   "cell_type": "code",
   "execution_count": 322,
   "metadata": {},
   "outputs": [],
   "source": [
    "var_explicativas, var_objetivo = datasets.load_boston(return_X_y=True)"
   ]
  },
  {
   "cell_type": "markdown",
   "metadata": {},
   "source": [
    "## MODELO 2\n",
    "\n",
    "Forma: Y = M2*X2\n",
    "\n",
    "Siendo \n",
    "       \n",
    "       X2 = LSTAT"
   ]
  },
  {
   "cell_type": "code",
   "execution_count": 323,
   "metadata": {},
   "outputs": [],
   "source": [
    "#indicamos cual sera la variable objetivo\n",
    "#generamos los datos para las variables explicativas\n",
    "boston['MEDV'] = boston_dataset.target\n",
    "Y = boston['MEDV']\n",
    "#Nuestras variables explicativas sera todas menos la resultado, la medv\n",
    "X_modelo1 = boston['LSTAT']"
   ]
  },
  {
   "cell_type": "code",
   "execution_count": 324,
   "metadata": {},
   "outputs": [],
   "source": [
    "n = X_modelo1.size\n",
    "#Creacion de Files\n",
    "f1_x = X_modelo1[:int(n*0.2)]\n",
    "f2_x = X_modelo1[int(n*0.2):int(n*0.4)]\n",
    "f3_x = X_modelo1[int(n*0.4):int(n*0.6)]\n",
    "f4_x = X_modelo1[int(n*0.6):int(n*0.8)]\n",
    "f5_x = X_modelo1[int(n*0.8):]\n",
    "\n",
    "n = Y.size\n",
    "#Creacion de Files\n",
    "f1_y = Y[:int(n*0.2)]\n",
    "f2_y = Y[int(n*0.2):int(n*0.4)]\n",
    "f3_y = Y[int(n*0.4):int(n*0.6)]\n",
    "f4_y = Y[int(n*0.6):int(n*0.8)]\n",
    "f5_y = Y[int(n*0.8):]"
   ]
  },
  {
   "cell_type": "markdown",
   "metadata": {},
   "source": [
    "# Vuelta 1"
   ]
  },
  {
   "cell_type": "code",
   "execution_count": 325,
   "metadata": {},
   "outputs": [],
   "source": [
    "X_test = f1_x[:,np.newaxis]\n",
    "X_train = np.concatenate([f2_x,f3_x,f4_x,f5_x])[:,np.newaxis]\n",
    "Y_test = f1_y\n",
    "Y_train = np.concatenate([f2_y,f3_y,f4_y,f5_y])"
   ]
  },
  {
   "cell_type": "code",
   "execution_count": 326,
   "metadata": {},
   "outputs": [],
   "source": [
    "modelo21 = linear_model.LinearRegression()"
   ]
  },
  {
   "cell_type": "code",
   "execution_count": 327,
   "metadata": {},
   "outputs": [
    {
     "data": {
      "text/plain": [
       "LinearRegression()"
      ]
     },
     "execution_count": 327,
     "metadata": {},
     "output_type": "execute_result"
    }
   ],
   "source": [
    "modelo21.fit(X_train,Y_train)"
   ]
  },
  {
   "cell_type": "code",
   "execution_count": 328,
   "metadata": {},
   "outputs": [],
   "source": [
    "prediccion_modelo21 = modelo21.predict(X_test)"
   ]
  },
  {
   "cell_type": "code",
   "execution_count": 329,
   "metadata": {},
   "outputs": [],
   "source": [
    "#Veamos el error cuadrado medio\n",
    "MSE_21=np.sqrt(mean_squared_error(Y_test, prediccion_modelo21))"
   ]
  },
  {
   "cell_type": "code",
   "execution_count": 330,
   "metadata": {},
   "outputs": [
    {
     "data": {
      "text/plain": [
       "4.872311920082662"
      ]
     },
     "execution_count": 330,
     "metadata": {},
     "output_type": "execute_result"
    }
   ],
   "source": [
    "MSE_21"
   ]
  },
  {
   "cell_type": "markdown",
   "metadata": {},
   "source": [
    "## Vuelta 2"
   ]
  },
  {
   "cell_type": "code",
   "execution_count": 331,
   "metadata": {},
   "outputs": [],
   "source": [
    "X_test = f2_x[:,np.newaxis]\n",
    "X_train = np.concatenate([f1_x,f3_x,f4_x,f5_x])[:,np.newaxis]\n",
    "Y_test = f2_y\n",
    "Y_train = np.concatenate([f1_y,f3_y,f4_y,f5_y])"
   ]
  },
  {
   "cell_type": "code",
   "execution_count": 332,
   "metadata": {},
   "outputs": [],
   "source": [
    "modelo22 = linear_model.LinearRegression()"
   ]
  },
  {
   "cell_type": "code",
   "execution_count": 333,
   "metadata": {},
   "outputs": [
    {
     "data": {
      "text/plain": [
       "LinearRegression()"
      ]
     },
     "execution_count": 333,
     "metadata": {},
     "output_type": "execute_result"
    }
   ],
   "source": [
    "modelo22.fit(X_train,Y_train)"
   ]
  },
  {
   "cell_type": "code",
   "execution_count": 334,
   "metadata": {},
   "outputs": [],
   "source": [
    "prediccion_modelo22 = modelo22.predict(X_test)"
   ]
  },
  {
   "cell_type": "code",
   "execution_count": 335,
   "metadata": {},
   "outputs": [],
   "source": [
    "#Veamos el error cuadrado medio\n",
    "MSE_22=np.sqrt(mean_squared_error(Y_test, prediccion_modelo22))"
   ]
  },
  {
   "cell_type": "code",
   "execution_count": 336,
   "metadata": {},
   "outputs": [
    {
     "data": {
      "text/plain": [
       "6.3515001918254255"
      ]
     },
     "execution_count": 336,
     "metadata": {},
     "output_type": "execute_result"
    }
   ],
   "source": [
    "MSE_22"
   ]
  },
  {
   "cell_type": "markdown",
   "metadata": {},
   "source": [
    "# Vuelta 3"
   ]
  },
  {
   "cell_type": "code",
   "execution_count": 337,
   "metadata": {},
   "outputs": [],
   "source": [
    "X_test = f3_x[:,np.newaxis]\n",
    "X_train = np.concatenate([f1_x,f2_x,f4_x,f5_x])[:,np.newaxis]\n",
    "Y_test = f3_y\n",
    "Y_train = np.concatenate([f1_y,f2_y,f4_y,f5_y])"
   ]
  },
  {
   "cell_type": "code",
   "execution_count": 338,
   "metadata": {},
   "outputs": [],
   "source": [
    "modelo23 = linear_model.LinearRegression()"
   ]
  },
  {
   "cell_type": "code",
   "execution_count": 339,
   "metadata": {},
   "outputs": [
    {
     "data": {
      "text/plain": [
       "LinearRegression()"
      ]
     },
     "execution_count": 339,
     "metadata": {},
     "output_type": "execute_result"
    }
   ],
   "source": [
    "modelo23.fit(X_train,Y_train)"
   ]
  },
  {
   "cell_type": "code",
   "execution_count": 340,
   "metadata": {},
   "outputs": [],
   "source": [
    "prediccion_modelo23 = modelo23.predict(X_test)"
   ]
  },
  {
   "cell_type": "code",
   "execution_count": 341,
   "metadata": {},
   "outputs": [
    {
     "data": {
      "text/plain": [
       "8.703417461701518"
      ]
     },
     "execution_count": 341,
     "metadata": {},
     "output_type": "execute_result"
    }
   ],
   "source": [
    "#Veamos el error cuadrado medio\n",
    "MSE_23=np.sqrt(mean_squared_error(Y_test, prediccion_modelo23))\n",
    "MSE_23"
   ]
  },
  {
   "cell_type": "markdown",
   "metadata": {},
   "source": [
    "# Vuelta 4"
   ]
  },
  {
   "cell_type": "code",
   "execution_count": 342,
   "metadata": {},
   "outputs": [],
   "source": [
    "X_test = f4_x[:,np.newaxis]\n",
    "X_train = np.concatenate([f1_x,f2_x,f3_x,f5_x])[:,np.newaxis]\n",
    "Y_test = f4_y\n",
    "Y_train = np.concatenate([f1_y,f2_y,f3_y,f5_y])"
   ]
  },
  {
   "cell_type": "code",
   "execution_count": 343,
   "metadata": {},
   "outputs": [],
   "source": [
    "modelo24 = linear_model.LinearRegression()"
   ]
  },
  {
   "cell_type": "code",
   "execution_count": 344,
   "metadata": {},
   "outputs": [
    {
     "data": {
      "text/plain": [
       "LinearRegression()"
      ]
     },
     "execution_count": 344,
     "metadata": {},
     "output_type": "execute_result"
    }
   ],
   "source": [
    "modelo24.fit(X_train,Y_train)"
   ]
  },
  {
   "cell_type": "code",
   "execution_count": 345,
   "metadata": {},
   "outputs": [],
   "source": [
    "prediccion_modelo24 = modelo24.predict(X_test)"
   ]
  },
  {
   "cell_type": "code",
   "execution_count": 346,
   "metadata": {},
   "outputs": [
    {
     "data": {
      "text/plain": [
       "7.10744625739014"
      ]
     },
     "execution_count": 346,
     "metadata": {},
     "output_type": "execute_result"
    }
   ],
   "source": [
    "#Veamos el error cuadrado medio\n",
    "MSE_24=np.sqrt(mean_squared_error(Y_test, prediccion_modelo24))\n",
    "MSE_24"
   ]
  },
  {
   "cell_type": "markdown",
   "metadata": {},
   "source": [
    "# Vuelta 5"
   ]
  },
  {
   "cell_type": "code",
   "execution_count": 347,
   "metadata": {},
   "outputs": [],
   "source": [
    "X_test = f5_x[:,np.newaxis]\n",
    "X_train = np.concatenate([f1_x,f2_x,f3_x,f4_x])[:,np.newaxis]\n",
    "Y_test = f5_y\n",
    "Y_train = np.concatenate([f1_y,f2_y,f3_y,f4_y])"
   ]
  },
  {
   "cell_type": "code",
   "execution_count": 348,
   "metadata": {},
   "outputs": [],
   "source": [
    "modelo25 = linear_model.LinearRegression()"
   ]
  },
  {
   "cell_type": "code",
   "execution_count": 349,
   "metadata": {},
   "outputs": [
    {
     "data": {
      "text/plain": [
       "LinearRegression()"
      ]
     },
     "execution_count": 349,
     "metadata": {},
     "output_type": "execute_result"
    }
   ],
   "source": [
    "modelo25.fit(X_train,Y_train)"
   ]
  },
  {
   "cell_type": "code",
   "execution_count": 350,
   "metadata": {},
   "outputs": [],
   "source": [
    "prediccion_modelo25 = modelo25.predict(X_test)"
   ]
  },
  {
   "cell_type": "code",
   "execution_count": 351,
   "metadata": {},
   "outputs": [
    {
     "data": {
      "text/plain": [
       "4.795113664598102"
      ]
     },
     "execution_count": 351,
     "metadata": {},
     "output_type": "execute_result"
    }
   ],
   "source": [
    "#Veamos el error cuadrado medio\n",
    "MSE_25=np.sqrt(mean_squared_error(Y_test, prediccion_modelo25))\n",
    "MSE_25"
   ]
  },
  {
   "cell_type": "markdown",
   "metadata": {},
   "source": [
    "# MSE promedio"
   ]
  },
  {
   "cell_type": "code",
   "execution_count": 352,
   "metadata": {},
   "outputs": [
    {
     "data": {
      "text/plain": [
       "6.36595789911957"
      ]
     },
     "execution_count": 352,
     "metadata": {},
     "output_type": "execute_result"
    }
   ],
   "source": [
    "MSE_modelo2 = np.average([MSE_21,MSE_22,MSE_23,MSE_24,MSE_25])\n",
    "MSE_modelo2"
   ]
  },
  {
   "cell_type": "code",
   "execution_count": null,
   "metadata": {},
   "outputs": [],
   "source": []
  },
  {
   "cell_type": "markdown",
   "metadata": {},
   "source": [
    "## MODELO 1\n",
    "\n",
    "Forma: Y = M1*X1\n",
    "\n",
    "Siendo \n",
    "       \n",
    "       X1 = RM"
   ]
  },
  {
   "cell_type": "code",
   "execution_count": 353,
   "metadata": {},
   "outputs": [],
   "source": [
    "#indicamos cual sera la variable objetivo\n",
    "#generamos los datos para las variables explicativas\n",
    "boston['MEDV'] = boston_dataset.target\n",
    "Y = boston['MEDV']\n",
    "#Nuestras variables explicativas sera todas menos la resultado, la medv\n",
    "X_modelo1 = boston['RM']"
   ]
  },
  {
   "cell_type": "code",
   "execution_count": 354,
   "metadata": {},
   "outputs": [],
   "source": [
    "n = X_modelo1.size\n",
    "#Creacion de Files\n",
    "f1_x = X_modelo1[:int(n*0.2)]\n",
    "f2_x = X_modelo1[int(n*0.2):int(n*0.4)]\n",
    "f3_x = X_modelo1[int(n*0.4):int(n*0.6)]\n",
    "f4_x = X_modelo1[int(n*0.6):int(n*0.8)]\n",
    "f5_x = X_modelo1[int(n*0.8):]\n",
    "\n",
    "n = Y.size\n",
    "#Creacion de Files\n",
    "f1_y = Y[:int(n*0.2)]\n",
    "f2_y = Y[int(n*0.2):int(n*0.4)]\n",
    "f3_y = Y[int(n*0.4):int(n*0.6)]\n",
    "f4_y = Y[int(n*0.6):int(n*0.8)]\n",
    "f5_y = Y[int(n*0.8):]"
   ]
  },
  {
   "cell_type": "code",
   "execution_count": null,
   "metadata": {},
   "outputs": [],
   "source": []
  },
  {
   "cell_type": "markdown",
   "metadata": {},
   "source": [
    "# Vuelta 1"
   ]
  },
  {
   "cell_type": "code",
   "execution_count": 356,
   "metadata": {},
   "outputs": [],
   "source": [
    "X_test = f1_x[:,np.newaxis]\n",
    "X_train = np.concatenate([f2_x,f3_x,f4_x,f5_x])[:,np.newaxis]\n",
    "Y_test = f1_y\n",
    "Y_train = np.concatenate([f2_y,f3_y,f4_y,f5_y])"
   ]
  },
  {
   "cell_type": "code",
   "execution_count": 357,
   "metadata": {},
   "outputs": [],
   "source": [
    "modelo1 = linear_model.LinearRegression()"
   ]
  },
  {
   "cell_type": "code",
   "execution_count": 358,
   "metadata": {},
   "outputs": [
    {
     "data": {
      "text/plain": [
       "LinearRegression()"
      ]
     },
     "execution_count": 358,
     "metadata": {},
     "output_type": "execute_result"
    }
   ],
   "source": [
    "modelo1.fit(X_train,Y_train)"
   ]
  },
  {
   "cell_type": "code",
   "execution_count": 359,
   "metadata": {},
   "outputs": [],
   "source": [
    "prediccion_modelo1 = modelo1.predict(X_test)"
   ]
  },
  {
   "cell_type": "code",
   "execution_count": 360,
   "metadata": {},
   "outputs": [],
   "source": [
    "#Veamos el error cuadrado medio\n",
    "MSE_11=np.sqrt(mean_squared_error(Y_test, prediccion_modelo1))"
   ]
  },
  {
   "cell_type": "code",
   "execution_count": 361,
   "metadata": {},
   "outputs": [
    {
     "data": {
      "text/plain": [
       "3.1961280801047636"
      ]
     },
     "execution_count": 361,
     "metadata": {},
     "output_type": "execute_result"
    }
   ],
   "source": [
    "MSE_11"
   ]
  },
  {
   "cell_type": "markdown",
   "metadata": {},
   "source": [
    "## Vuelta 2"
   ]
  },
  {
   "cell_type": "code",
   "execution_count": 362,
   "metadata": {},
   "outputs": [],
   "source": [
    "X_test = f2_x[:,np.newaxis]\n",
    "X_train = np.concatenate([f1_x,f3_x,f4_x,f5_x])[:,np.newaxis]\n",
    "Y_test = f2_y\n",
    "Y_train = np.concatenate([f1_y,f3_y,f4_y,f5_y])"
   ]
  },
  {
   "cell_type": "code",
   "execution_count": 363,
   "metadata": {},
   "outputs": [],
   "source": [
    "modelo2 = linear_model.LinearRegression()"
   ]
  },
  {
   "cell_type": "code",
   "execution_count": 364,
   "metadata": {},
   "outputs": [
    {
     "data": {
      "text/plain": [
       "LinearRegression()"
      ]
     },
     "execution_count": 364,
     "metadata": {},
     "output_type": "execute_result"
    }
   ],
   "source": [
    "modelo2.fit(X_train,Y_train)"
   ]
  },
  {
   "cell_type": "code",
   "execution_count": 365,
   "metadata": {},
   "outputs": [],
   "source": [
    "prediccion_modelo2 = modelo2.predict(X_test)"
   ]
  },
  {
   "cell_type": "code",
   "execution_count": 366,
   "metadata": {},
   "outputs": [],
   "source": [
    "#Veamos el error cuadrado medio\n",
    "MSE_12=np.sqrt(mean_squared_error(Y_test, prediccion_modelo2))"
   ]
  },
  {
   "cell_type": "code",
   "execution_count": 367,
   "metadata": {},
   "outputs": [
    {
     "data": {
      "text/plain": [
       "5.668140985445438"
      ]
     },
     "execution_count": 367,
     "metadata": {},
     "output_type": "execute_result"
    }
   ],
   "source": [
    "MSE_12"
   ]
  },
  {
   "cell_type": "markdown",
   "metadata": {},
   "source": [
    "# Vuelta 3"
   ]
  },
  {
   "cell_type": "code",
   "execution_count": 368,
   "metadata": {},
   "outputs": [],
   "source": [
    "X_test = f3_x[:,np.newaxis]\n",
    "X_train = np.concatenate([f1_x,f2_x,f4_x,f5_x])[:,np.newaxis]\n",
    "Y_test = f3_y\n",
    "Y_train = np.concatenate([f1_y,f2_y,f4_y,f5_y])"
   ]
  },
  {
   "cell_type": "code",
   "execution_count": 369,
   "metadata": {},
   "outputs": [],
   "source": [
    "modelo3 = linear_model.LinearRegression()"
   ]
  },
  {
   "cell_type": "code",
   "execution_count": 370,
   "metadata": {},
   "outputs": [
    {
     "data": {
      "text/plain": [
       "LinearRegression()"
      ]
     },
     "execution_count": 370,
     "metadata": {},
     "output_type": "execute_result"
    }
   ],
   "source": [
    "modelo3.fit(X_train,Y_train)"
   ]
  },
  {
   "cell_type": "code",
   "execution_count": 371,
   "metadata": {},
   "outputs": [],
   "source": [
    "prediccion_modelo3 = modelo3.predict(X_test)"
   ]
  },
  {
   "cell_type": "code",
   "execution_count": 372,
   "metadata": {},
   "outputs": [
    {
     "data": {
      "text/plain": [
       "6.419703492351037"
      ]
     },
     "execution_count": 372,
     "metadata": {},
     "output_type": "execute_result"
    }
   ],
   "source": [
    "#Veamos el error cuadrado medio\n",
    "MSE_13=np.sqrt(mean_squared_error(Y_test, prediccion_modelo3))\n",
    "MSE_13"
   ]
  },
  {
   "cell_type": "markdown",
   "metadata": {},
   "source": [
    "# Vuelta 4"
   ]
  },
  {
   "cell_type": "code",
   "execution_count": 373,
   "metadata": {},
   "outputs": [],
   "source": [
    "X_test = f4_x[:,np.newaxis]\n",
    "X_train = np.concatenate([f1_x,f2_x,f3_x,f5_x])[:,np.newaxis]\n",
    "Y_test = f4_y\n",
    "Y_train = np.concatenate([f1_y,f2_y,f3_y,f5_y])"
   ]
  },
  {
   "cell_type": "code",
   "execution_count": 374,
   "metadata": {},
   "outputs": [],
   "source": [
    "modelo4 = linear_model.LinearRegression()"
   ]
  },
  {
   "cell_type": "code",
   "execution_count": 375,
   "metadata": {},
   "outputs": [
    {
     "data": {
      "text/plain": [
       "LinearRegression()"
      ]
     },
     "execution_count": 375,
     "metadata": {},
     "output_type": "execute_result"
    }
   ],
   "source": [
    "modelo4.fit(X_train,Y_train)"
   ]
  },
  {
   "cell_type": "code",
   "execution_count": 376,
   "metadata": {},
   "outputs": [],
   "source": [
    "prediccion_modelo4 = modelo4.predict(X_test)"
   ]
  },
  {
   "cell_type": "code",
   "execution_count": 377,
   "metadata": {},
   "outputs": [
    {
     "data": {
      "text/plain": [
       "10.320743264925145"
      ]
     },
     "execution_count": 377,
     "metadata": {},
     "output_type": "execute_result"
    }
   ],
   "source": [
    "#Veamos el error cuadrado medio\n",
    "MSE_14=np.sqrt(mean_squared_error(Y_test, prediccion_modelo4))\n",
    "MSE_14"
   ]
  },
  {
   "cell_type": "markdown",
   "metadata": {},
   "source": [
    "# Vuelta 5"
   ]
  },
  {
   "cell_type": "code",
   "execution_count": 378,
   "metadata": {},
   "outputs": [],
   "source": [
    "X_test = f5_x[:,np.newaxis]\n",
    "X_train = np.concatenate([f1_x,f2_x,f3_x,f4_x])[:,np.newaxis]\n",
    "Y_test = f5_y\n",
    "Y_train = np.concatenate([f1_y,f2_y,f3_y,f4_y])"
   ]
  },
  {
   "cell_type": "code",
   "execution_count": 379,
   "metadata": {},
   "outputs": [],
   "source": [
    "modelo5 = linear_model.LinearRegression()"
   ]
  },
  {
   "cell_type": "code",
   "execution_count": 380,
   "metadata": {},
   "outputs": [
    {
     "data": {
      "text/plain": [
       "LinearRegression()"
      ]
     },
     "execution_count": 380,
     "metadata": {},
     "output_type": "execute_result"
    }
   ],
   "source": [
    "modelo5.fit(X_train,Y_train)"
   ]
  },
  {
   "cell_type": "code",
   "execution_count": 381,
   "metadata": {},
   "outputs": [],
   "source": [
    "prediccion_modelo5 = modelo5.predict(X_test)"
   ]
  },
  {
   "cell_type": "code",
   "execution_count": 382,
   "metadata": {},
   "outputs": [
    {
     "data": {
      "text/plain": [
       "8.599701850325603"
      ]
     },
     "execution_count": 382,
     "metadata": {},
     "output_type": "execute_result"
    }
   ],
   "source": [
    "#Veamos el error cuadrado medio\n",
    "MSE_15=np.sqrt(mean_squared_error(Y_test, prediccion_modelo5))\n",
    "MSE_15"
   ]
  },
  {
   "cell_type": "markdown",
   "metadata": {},
   "source": [
    "# MSE promedio"
   ]
  },
  {
   "cell_type": "code",
   "execution_count": 383,
   "metadata": {},
   "outputs": [
    {
     "data": {
      "text/plain": [
       "6.8408835346303976"
      ]
     },
     "execution_count": 383,
     "metadata": {},
     "output_type": "execute_result"
    }
   ],
   "source": [
    "MSE_modelo1 = np.average([MSE_11,MSE_12,MSE_13,MSE_14,MSE_15])\n",
    "MSE_modelo1"
   ]
  },
  {
   "cell_type": "markdown",
   "metadata": {},
   "source": [
    "# CONCLUSION"
   ]
  },
  {
   "cell_type": "code",
   "execution_count": 384,
   "metadata": {},
   "outputs": [
    {
     "data": {
      "text/plain": [
       "6.8408835346303976"
      ]
     },
     "execution_count": 384,
     "metadata": {},
     "output_type": "execute_result"
    }
   ],
   "source": [
    "MSE_modelo1"
   ]
  },
  {
   "cell_type": "code",
   "execution_count": 385,
   "metadata": {},
   "outputs": [
    {
     "data": {
      "text/plain": [
       "6.36595789911957"
      ]
     },
     "execution_count": 385,
     "metadata": {},
     "output_type": "execute_result"
    }
   ],
   "source": [
    "MSE_modelo2"
   ]
  },
  {
   "cell_type": "markdown",
   "metadata": {},
   "source": [
    "# ENTONCES"
   ]
  },
  {
   "cell_type": "code",
   "execution_count": 393,
   "metadata": {},
   "outputs": [],
   "source": [
    "X_modelo_definitivo = boston['LSTAT']\n",
    "Y = boston['MEDV']"
   ]
  },
  {
   "cell_type": "code",
   "execution_count": 394,
   "metadata": {},
   "outputs": [],
   "source": [
    "X_modelo_definitivo = X_modelo_definitivo[:,np.newaxis]"
   ]
  },
  {
   "cell_type": "code",
   "execution_count": 397,
   "metadata": {},
   "outputs": [],
   "source": [
    "modelo_definitivo = linear_model.LinearRegression()"
   ]
  },
  {
   "cell_type": "code",
   "execution_count": 398,
   "metadata": {},
   "outputs": [
    {
     "data": {
      "text/plain": [
       "LinearRegression()"
      ]
     },
     "execution_count": 398,
     "metadata": {},
     "output_type": "execute_result"
    }
   ],
   "source": [
    "modelo_definitivo.fit(X_modelo_definitivo,Y)"
   ]
  },
  {
   "cell_type": "code",
   "execution_count": 440,
   "metadata": {},
   "outputs": [],
   "source": [
    "cont = 40\n",
    "i = 1\n",
    "X_pred = []\n",
    "Y_pred = []\n",
    "while i<cont:\n",
    "    dato = np.array([i])[:,np.newaxis]\n",
    "    value=modelo_definitivo.predict(dato)\n",
    "    X_pred.append(i)\n",
    "    Y_pred.append(value)\n",
    "    i+=1\n",
    "\n"
   ]
  },
  {
   "cell_type": "code",
   "execution_count": 441,
   "metadata": {},
   "outputs": [
    {
     "data": {
      "text/plain": [
       "[<matplotlib.lines.Line2D at 0x7ffe4bb0a3d0>]"
      ]
     },
     "execution_count": 441,
     "metadata": {},
     "output_type": "execute_result"
    },
    {
     "data": {
      "image/png": "[encoded data removed]",
      "text/plain": [
       "<Figure size 432x288 with 1 Axes>"
      ]
     },
     "metadata": {
      "needs_background": "light"
     },
     "output_type": "display_data"
    }
   ],
   "source": [
    "import matplotlib.pyplot as plt\n",
    "plt.scatter(X_modelo_definitivo,Y)\n",
    "plt.plot(X_pred,Y_pred,\"or\")"
   ]
  },
  {
   "cell_type": "code",
   "execution_count": null,
   "metadata": {},
   "outputs": [],
   "source": []
  },
  {
   "cell_type": "code",
   "execution_count": null,
   "metadata": {},
   "outputs": [],
   "source": []
  }
 ],
 "metadata": {
  "kernelspec": {
   "display_name": "Python 3",
   "language": "python",
   "name": "python3"
  },
  "language_info": {
   "codemirror_mode": {
    "name": "ipython",
    "version": 3
   },
   "file_extension": ".py",
   "mimetype": "text/x-python",
   "name": "python",
   "nbconvert_exporter": "python",
   "pygments_lexer": "ipython3",
   "version": "3.8.3"
  }
 },
 "nbformat": 4,
 "nbformat_minor": 4
}
