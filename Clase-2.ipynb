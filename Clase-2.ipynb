{
 "cells": [
  {
   "cell_type": "markdown",
   "metadata": {},
   "source": [
    "# Clase 2: Ciclos Anidados y Manejo de Archivos\n",
    "\n",
    "\n",
    "En la clase anterior vimos todos los conocimientos sobre ciclos y las estructuras de datos que existen en Python. Como acceder a las mismas y modificarlas acorde al dominio del problema.\n",
    "\n",
    "Ahora, **¿Que vamos a ver en esta Clase 2?**\n",
    "\n",
    "1. Ciclos anidados\n",
    "2. Manejo de matrices y calculos\n",
    "3. Funciones de strings\n",
    "4. Archivos\n",
    "\n"
   ]
  },
  {
   "cell_type": "markdown",
   "metadata": {},
   "source": [
    "## Ciclos anidados"
   ]
  },
  {
   "cell_type": "code",
   "execution_count": null,
   "metadata": {},
   "outputs": [],
   "source": [
    "lista_de_listas = [[1,2,3,4],[10,20,30,40],[100,200,300,400]]"
   ]
  },
  {
   "cell_type": "code",
   "execution_count": null,
   "metadata": {},
   "outputs": [],
   "source": [
    "for lista in lista_de_listas:\n",
    "    elemento_fijado=lista[0]\n",
    "    i = 0\n",
    "    for elemento in lista:\n",
    "        lista[i] = elemento+elemento_fijado\n",
    "        i+=1"
   ]
  },
  {
   "cell_type": "code",
   "execution_count": null,
   "metadata": {},
   "outputs": [],
   "source": [
    "lista_de_listas"
   ]
  },
  {
   "cell_type": "code",
   "execution_count": null,
   "metadata": {},
   "outputs": [],
   "source": [
    "def multiplicar_matriz(escalar,matriz):\n",
    "    "
   ]
  },
  {
   "cell_type": "markdown",
   "metadata": {},
   "source": [
    "El resultado = multiplicar_matriz(3,lista_de_listas) => [[6,9,12,15],\n",
    "                [60,90,120,150],\n",
    "                [600,900,1200,1500]]"
   ]
  },
  {
   "cell_type": "code",
   "execution_count": null,
   "metadata": {},
   "outputs": [],
   "source": []
  },
  {
   "cell_type": "markdown",
   "metadata": {},
   "source": [
    "Se quiere una matriz de 5x5 que cree la siguiente forma"
   ]
  },
  {
   "cell_type": "code",
   "execution_count": null,
   "metadata": {},
   "outputs": [],
   "source": [
    "#   0 1 2 3 4\n",
    "#0  X X X X X\n",
    "#1  X       X\n",
    "#2  X       X\n",
    "#3  X       X\n",
    "#4  X X X X X\n"
   ]
  },
  {
   "cell_type": "code",
   "execution_count": null,
   "metadata": {},
   "outputs": [],
   "source": [
    "size = 5\n",
    "fila = 0\n",
    "columna = 0\n",
    "while fila < size:\n",
    "    columna = 0\n",
    "    while columna < size:\n",
    "        if fila == 0 or fila == 4:\n",
    "            print(\"X \",end=\"\")\n",
    "        elif columna == 0 or columna == 4:\n",
    "            print(\"X \",end=\"\")\n",
    "        else:\n",
    "            print(\"  \",end=\"\")\n",
    "        columna+=1\n",
    "    print(\"\\n\")\n",
    "    fila+=1"
   ]
  },
  {
   "cell_type": "code",
   "execution_count": null,
   "metadata": {},
   "outputs": [],
   "source": [
    "# X X X X X\n",
    "# X X X X X\n",
    "#     X \n",
    "# X X X X X\n",
    "# X X X X X"
   ]
  },
  {
   "cell_type": "code",
   "execution_count": null,
   "metadata": {},
   "outputs": [],
   "source": [
    "size = 7\n",
    "fila = 0\n",
    "columna = 0\n",
    "while fila < size:\n",
    "    columna = 0\n",
    "    while columna < size:\n",
    "        if fila!=(size//2):\n",
    "            print(\"X \",end=\"\")\n",
    "        elif columna == size//2:\n",
    "            print(\"X \",end=\"\")\n",
    "        else:\n",
    "            print(\"  \",end=\"\")\n",
    "        columna+=1\n",
    "    print(\"\\n\")\n",
    "    fila+=1"
   ]
  },
  {
   "cell_type": "markdown",
   "metadata": {},
   "source": [
    "## CHECKPOINT\n",
    "\n",
    "Dibujar las siguientes figuras con ciclos anidad teniendo en cuenta que el tamaño sea variable.\n",
    "\n",
    "Ademas, realizar la funcion sumar_matrices(matriz_a,matriz_b). Validar que las matrices sean del mismo tamaño ambas. La funcion retorna una nueva matriz"
   ]
  },
  {
   "cell_type": "code",
   "execution_count": null,
   "metadata": {},
   "outputs": [],
   "source": [
    "#   0 1 2 3 4\n",
    "# 0 X X X X X \n",
    "# 1 X X     X\n",
    "# 2 X   X   X\n",
    "# 3 X     X X\n",
    "# 4 X X X X X "
   ]
  },
  {
   "cell_type": "code",
   "execution_count": null,
   "metadata": {},
   "outputs": [],
   "source": [
    "#   0 1 2 3 4\n",
    "# 0 X X X X X \n",
    "# 1 X X   X X \n",
    "# 2 X   X   X\n",
    "# 3 X       X\n",
    "# 4 X X X X X       "
   ]
  },
  {
   "cell_type": "markdown",
   "metadata": {},
   "source": [
    "##  Funciones de Strings\n",
    "\n",
    "La funcion string.split(\"*caracter*\") nos permite convertir a una cadena de caracteres en un arreglo, indicando la separacion de cada elemento del nuevo arreglo por el caracter que le indiquemos.\n",
    "\n",
    "La funcion \"*caracter*\".join(lista) nos permite hacer el camino inverso: dada una lista obtenemos un string donde cada elemento es unido por el caracter que le indicamos"
   ]
  },
  {
   "cell_type": "code",
   "execution_count": null,
   "metadata": {},
   "outputs": [],
   "source": [
    "texto = \"Hola fer como estas\"\n",
    "texto"
   ]
  },
  {
   "cell_type": "code",
   "execution_count": null,
   "metadata": {},
   "outputs": [],
   "source": [
    "lista= texto.split(\" \")"
   ]
  },
  {
   "cell_type": "code",
   "execution_count": null,
   "metadata": {},
   "outputs": [],
   "source": [
    "lista[0]"
   ]
  },
  {
   "cell_type": "code",
   "execution_count": null,
   "metadata": {},
   "outputs": [],
   "source": [
    "lista = [\"Hola\",\"Fer\",\"Como\",\"Estas\"]"
   ]
  },
  {
   "cell_type": "code",
   "execution_count": null,
   "metadata": {},
   "outputs": [],
   "source": [
    "\" \".join(lista)"
   ]
  },
  {
   "cell_type": "code",
   "execution_count": null,
   "metadata": {},
   "outputs": [],
   "source": [
    "\"-\".join(lista)"
   ]
  },
  {
   "cell_type": "code",
   "execution_count": null,
   "metadata": {},
   "outputs": [],
   "source": [
    "lista= texto.split(\"a\")"
   ]
  },
  {
   "cell_type": "code",
   "execution_count": null,
   "metadata": {},
   "outputs": [],
   "source": [
    "lista"
   ]
  },
  {
   "cell_type": "markdown",
   "metadata": {},
   "source": [
    "Un tipo de archivo que es util para la representacion de datos es el CSV:\n",
    "\n",
    "archivo CSV = comma separated values -> valores separados por coma"
   ]
  },
  {
   "cell_type": "code",
   "execution_count": null,
   "metadata": {},
   "outputs": [],
   "source": [
    "lista = ['fernado,graffigna,42163068,$20000,$350','tomas,nozica,40728987,$4000,$1000']"
   ]
  },
  {
   "cell_type": "code",
   "execution_count": null,
   "metadata": {},
   "outputs": [],
   "source": [
    "lista"
   ]
  },
  {
   "cell_type": "markdown",
   "metadata": {},
   "source": [
    "Aplicando los conceptos anteriores podemos transofrmar a una cadena de strings en una lista y operar sobre cada elemento de cada \"fila\""
   ]
  },
  {
   "cell_type": "code",
   "execution_count": null,
   "metadata": {},
   "outputs": [],
   "source": [
    "i = 0\n",
    "for fila in lista:\n",
    "    lista[i]=fila.split(\",\")\n",
    "    i+=1"
   ]
  },
  {
   "cell_type": "code",
   "execution_count": null,
   "metadata": {},
   "outputs": [],
   "source": [
    "def imprimir_montos(lista):\n",
    "    for fila in lista:\n",
    "        print(fila[3])"
   ]
  },
  {
   "cell_type": "code",
   "execution_count": null,
   "metadata": {},
   "outputs": [],
   "source": [
    "imprimir_montos(lista)"
   ]
  },
  {
   "cell_type": "markdown",
   "metadata": {},
   "source": [
    "Probemos el join en un string"
   ]
  },
  {
   "cell_type": "code",
   "execution_count": null,
   "metadata": {},
   "outputs": [],
   "source": [
    "nombre=[\"fernado\",\"graffigna\"]"
   ]
  },
  {
   "cell_type": "code",
   "execution_count": null,
   "metadata": {},
   "outputs": [],
   "source": [
    "string = \" \".join(nombre)"
   ]
  },
  {
   "cell_type": "markdown",
   "metadata": {},
   "source": [
    "## Archivos\n",
    "\n",
    "El procesamiento de archivos en Python es muy util para generar de algun dato externo un input valido para las funciones o bloques de codigo que ejecutemos. \n",
    "\n",
    "Su forma de procesarse es bastante mecanizado y consiste en la siguiente logica:\n",
    "\n",
    "- Generar la apertura del archivo indicando nombre y modo\n",
    "- Almacenarlos en una lista\n",
    "- Procesarlo"
   ]
  },
  {
   "cell_type": "markdown",
   "metadata": {},
   "source": [
    "En el primer ejemplo vamos a leer el archivo lectura.csv y sabiendo el tipo de dato de cada columna lo procesaremos acordemente. Luego lo almacenaremos en una lista."
   ]
  },
  {
   "cell_type": "code",
   "execution_count": null,
   "metadata": {},
   "outputs": [],
   "source": [
    "filename = open(\"lectura.csv\",\"r\")"
   ]
  },
  {
   "cell_type": "code",
   "execution_count": null,
   "metadata": {},
   "outputs": [],
   "source": [
    "alumnos=[]\n",
    "for fila in filename.readlines():\n",
    "    fila=fila.strip()\n",
    "    fila=fila.split(\",\")\n",
    "    fila[2]=int(fila[2])\n",
    "    fila[3]=int(fila[3])\n",
    "    fila[4]=int(fila[4])\n",
    "    fila[5]=int(fila[5])\n",
    "    alumnos.append(fila)\n",
    "alumnos"
   ]
  },
  {
   "cell_type": "markdown",
   "metadata": {},
   "source": [
    "Una vez procesado el archivo podemos procesar los datos y operar sobre lo que obtuvimos. En este caso mostramos cuantas materias le restan a un alumno rendir para recibirse."
   ]
  },
  {
   "cell_type": "code",
   "execution_count": null,
   "metadata": {},
   "outputs": [],
   "source": [
    "def resta_recibirse(alumnos):\n",
    "    finales_restantes=[]\n",
    "    for fila in alumnos:\n",
    "        if fila[3]!=fila[4]:\n",
    "            restantes = fila[4]-fila[3]\n",
    "            finales_restantes.append(fila[0:2]+[restantes])\n",
    "    return finales_restantes"
   ]
  },
  {
   "cell_type": "code",
   "execution_count": null,
   "metadata": {},
   "outputs": [],
   "source": [
    "resta_recibirse(alumnos)"
   ]
  },
  {
   "cell_type": "markdown",
   "metadata": {},
   "source": [
    "## CHECKPOINT\n",
    "\n",
    "1. Realizar la funcion materias_por_agno que reciba una lista de alumnos e indique cuantas rindio cada uno en promedio por cada año cursado. Si un alumno ya egresó no mostrarlo."
   ]
  },
  {
   "cell_type": "code",
   "execution_count": null,
   "metadata": {},
   "outputs": [],
   "source": [
    "def materias_por_agno(lista):\n",
    "    materias=[]\n",
    "    for alumnos in lista:\n",
    "        if alumnos[5]!=0:\n",
    "            promedio=alumnos[3]/alumnos[5]\n",
    "            materias.append(alumnos[0:2]+[promedio])\n",
    "    return materias"
   ]
  },
  {
   "cell_type": "code",
   "execution_count": null,
   "metadata": {},
   "outputs": [],
   "source": [
    "materias_por_agno(alumnos)"
   ]
  },
  {
   "cell_type": "markdown",
   "metadata": {},
   "source": [
    "## VARIANTE\n",
    "\n",
    "Ahora, teniendo el identificador de cada alumno y el identificador de cada materia, generar la funcion alumno_y_carrera(alumnos, id_carrera, al_carrera) donde de por resultado el nombre de cada alumno y la carrera que estudia."
   ]
  },
  {
   "cell_type": "code",
   "execution_count": null,
   "metadata": {},
   "outputs": [],
   "source": [
    "carrera = open(\"carrera.csv\",\"r\")"
   ]
  },
  {
   "cell_type": "code",
   "execution_count": null,
   "metadata": {},
   "outputs": [],
   "source": [
    "alumno_carrera = open(\"alumno-carrera.csv\",\"r\")"
   ]
  },
  {
   "cell_type": "code",
   "execution_count": null,
   "metadata": {},
   "outputs": [],
   "source": [
    "id_carrera=[]\n",
    "for fila in carrera.readlines():\n",
    "    fila=fila.strip()\n",
    "    fila=fila.split(\",\")\n",
    "    fila[0]=int(fila[0])\n",
    "    id_carrera.append(fila)\n",
    "id_carrera    "
   ]
  },
  {
   "cell_type": "code",
   "execution_count": null,
   "metadata": {},
   "outputs": [],
   "source": [
    "al_carrera=[]\n",
    "for fila in alumno_carrera.readlines():\n",
    "    fila=fila.strip()\n",
    "    fila=fila.split(\",\")\n",
    "    fila[0]=int(fila[0])\n",
    "    fila[1]=int(fila[1])\n",
    "    al_carrera.append(fila)\n",
    "al_carrera    "
   ]
  },
  {
   "cell_type": "code",
   "execution_count": null,
   "metadata": {},
   "outputs": [],
   "source": [
    "def alumno_y_carrera(alumnos,id_carrera,al_carrera):\n",
    "    al_ids=[]\n",
    "    for alumno in alumnos:\n",
    "        for ids in al_carrera:\n",
    "            if alumno[2]==ids[0]:\n",
    "                al_ids.append(alumno[0:2]+[ids[1]])\n",
    "    resultado=[]\n",
    "    for fila in al_ids:\n",
    "        for carrera in id_carrera:\n",
    "            if fila[2]==carrera[0]:\n",
    "                resultado.append(fila[0:2]+[carrera[1]])\n",
    "    return resultado"
   ]
  },
  {
   "cell_type": "code",
   "execution_count": null,
   "metadata": {},
   "outputs": [],
   "source": [
    "alumno_y_carrera(alumnos,id_carrera,al_carrera)"
   ]
  }
 ],
 "metadata": {
  "kernelspec": {
   "display_name": "Python 3",
   "language": "python",
   "name": "python3"
  },
  "language_info": {
   "codemirror_mode": {
    "name": "ipython",
    "version": 3
   },
   "file_extension": ".py",
   "mimetype": "text/x-python",
   "name": "python",
   "nbconvert_exporter": "python",
   "pygments_lexer": "ipython3",
   "version": "3.8.3"
  }
 },
 "nbformat": 4,
 "nbformat_minor": 4
}
