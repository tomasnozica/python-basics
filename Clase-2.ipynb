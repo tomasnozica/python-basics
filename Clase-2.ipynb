{
 "cells": [
  {
   "cell_type": "markdown",
   "metadata": {},
   "source": [
    "# Clase 2: Ciclos Anidados\n",
    "\n",
    "\n",
    "En la clase anterior vimos todos los conocimientos sobre ciclos y las estructuras de datos que existen en Python. Como acceder a las mismas y modificarlas acorde al dominio del problema.\n",
    "\n",
    "Ahora, **¿Que vamos a ver en esta Clase 2?**\n",
    "\n",
    "1. Ciclos anidados\n",
    "2. Manejo de matrices y calculos\n",
    "3. Funciones de strings\n",
    "4. Archivos\n",
    "\n"
   ]
  },
  {
   "cell_type": "markdown",
   "metadata": {},
   "source": [
    "## Ciclos anidados"
   ]
  },
  {
   "cell_type": "code",
   "execution_count": 9,
   "metadata": {},
   "outputs": [],
   "source": [
    "lista_de_listas = [[1,2,3,4],[10,20,30,40],[100,200,300,400]]"
   ]
  },
  {
   "cell_type": "code",
   "execution_count": 11,
   "metadata": {},
   "outputs": [],
   "source": [
    "for lista in lista_de_listas:\n",
    "    elemento_fijado=lista[0]\n",
    "    i = 0\n",
    "    for elemento in lista:\n",
    "        lista[i] = elemento+elemento_fijado\n",
    "        i+=1"
   ]
  },
  {
   "cell_type": "code",
   "execution_count": 12,
   "metadata": {},
   "outputs": [
    {
     "data": {
      "text/plain": [
       "[[2, 3, 4, 5], [20, 30, 40, 50], [200, 300, 400, 500]]"
      ]
     },
     "execution_count": 12,
     "metadata": {},
     "output_type": "execute_result"
    }
   ],
   "source": [
    "lista_de_listas"
   ]
  },
  {
   "cell_type": "code",
   "execution_count": null,
   "metadata": {},
   "outputs": [],
   "source": [
    "def multiplicar_matriz(escalar,matriz):\n",
    "    "
   ]
  },
  {
   "cell_type": "markdown",
   "metadata": {},
   "source": [
    "El resultado = multiplicar_matriz(3,lista_de_listas) => [[6,9,12,15],\n",
    "                [60,90,120,150],\n",
    "                [600,900,1200,1500]]"
   ]
  },
  {
   "cell_type": "code",
   "execution_count": null,
   "metadata": {},
   "outputs": [],
   "source": []
  },
  {
   "cell_type": "markdown",
   "metadata": {},
   "source": [
    "Se quiere una matriz de 5x5 que cree la siguiente forma\n",
    "\n",
    "   0 1 2 3 4\n",
    "0  X X X X X\n",
    "1  X       X\n",
    "2  X       X\n",
    "3  X       X\n",
    "4  X X X X X"
   ]
  },
  {
   "cell_type": "code",
   "execution_count": 30,
   "metadata": {},
   "outputs": [
    {
     "name": "stdout",
     "output_type": "stream",
     "text": [
      "X X X X X \n",
      "\n",
      "X       X \n",
      "\n",
      "X       X \n",
      "\n",
      "X       X \n",
      "\n",
      "X X X X X \n",
      "\n"
     ]
    }
   ],
   "source": [
    "size = 5\n",
    "fila = 0\n",
    "columna = 0\n",
    "while fila < size:\n",
    "    columna = 0\n",
    "    while columna < size:\n",
    "        if fila == 0 or fila == 4:\n",
    "            print(\"X \",end=\"\")\n",
    "        elif columna == 0 or columna == 4:\n",
    "            print(\"X \",end=\"\")\n",
    "        else:\n",
    "            print(\"  \",end=\"\")\n",
    "        columna+=1\n",
    "    print(\"\\n\")\n",
    "    fila+=1"
   ]
  },
  {
   "cell_type": "markdown",
   "metadata": {},
   "source": [
    "X X X X X\n",
    "X X X X X\n",
    "    X \n",
    "X X X X X\n",
    "X X X X X"
   ]
  },
  {
   "cell_type": "code",
   "execution_count": 41,
   "metadata": {},
   "outputs": [
    {
     "name": "stdout",
     "output_type": "stream",
     "text": [
      "X X X X X X X \n",
      "\n",
      "X X X X X X X \n",
      "\n",
      "X X X X X X X \n",
      "\n",
      "      X       \n",
      "\n",
      "X X X X X X X \n",
      "\n",
      "X X X X X X X \n",
      "\n",
      "X X X X X X X \n",
      "\n"
     ]
    }
   ],
   "source": [
    "size = 7\n",
    "fila = 0\n",
    "columna = 0\n",
    "while fila < size:\n",
    "    columna = 0\n",
    "    while columna < size:\n",
    "        if fila!=(size//2):\n",
    "            print(\"X \",end=\"\")\n",
    "        elif columna == size//2:\n",
    "            print(\"X \",end=\"\")\n",
    "        else:\n",
    "            print(\"  \",end=\"\")\n",
    "        columna+=1\n",
    "    print(\"\\n\")\n",
    "    fila+=1"
   ]
  },
  {
   "cell_type": "code",
   "execution_count": null,
   "metadata": {},
   "outputs": [],
   "source": [
    "  0 1 2 3 4\n",
    "0 X X X X X \n",
    "1 X X     X\n",
    "2 X   X   X\n",
    "3 X     X X\n",
    "4 X X X X X "
   ]
  },
  {
   "cell_type": "code",
   "execution_count": null,
   "metadata": {},
   "outputs": [],
   "source": [
    "  0 1 2 3 4\n",
    "0 X X X X X \n",
    "1 X X   X X \n",
    "2 X   X   X\n",
    "3 X       X\n",
    "4 X X X X X       "
   ]
  },
  {
   "cell_type": "markdown",
   "metadata": {},
   "source": [
    "## CHECKPOINT\n",
    "def sumar_matrices(matriz_a,matriz_b) validar que las matrices sean del mismo tamaño ambas, retorna una nueva matriz"
   ]
  },
  {
   "cell_type": "code",
   "execution_count": 51,
   "metadata": {},
   "outputs": [
    {
     "data": {
      "text/plain": [
       "'Hola fer como estas'"
      ]
     },
     "execution_count": 51,
     "metadata": {},
     "output_type": "execute_result"
    }
   ],
   "source": [
    "texto = \"Hola fer como estas\"\n",
    "texto"
   ]
  },
  {
   "cell_type": "code",
   "execution_count": 52,
   "metadata": {},
   "outputs": [],
   "source": [
    "lista= texto.split(\" \")"
   ]
  },
  {
   "cell_type": "code",
   "execution_count": 53,
   "metadata": {},
   "outputs": [
    {
     "data": {
      "text/plain": [
       "'Hola'"
      ]
     },
     "execution_count": 53,
     "metadata": {},
     "output_type": "execute_result"
    }
   ],
   "source": [
    "lista[0]"
   ]
  },
  {
   "cell_type": "code",
   "execution_count": 54,
   "metadata": {},
   "outputs": [],
   "source": [
    "lista = [\"Hola\",\"Fer\",\"Como\",\"Estas\"]"
   ]
  },
  {
   "cell_type": "code",
   "execution_count": 55,
   "metadata": {},
   "outputs": [
    {
     "data": {
      "text/plain": [
       "'Hola Fer Como Estas'"
      ]
     },
     "execution_count": 55,
     "metadata": {},
     "output_type": "execute_result"
    }
   ],
   "source": [
    "\" \".join(lista)"
   ]
  },
  {
   "cell_type": "code",
   "execution_count": 56,
   "metadata": {},
   "outputs": [
    {
     "data": {
      "text/plain": [
       "'Hola-Fer-Como-Estas'"
      ]
     },
     "execution_count": 56,
     "metadata": {},
     "output_type": "execute_result"
    }
   ],
   "source": [
    "\"-\".join(lista)"
   ]
  },
  {
   "cell_type": "code",
   "execution_count": 57,
   "metadata": {},
   "outputs": [],
   "source": [
    "lista= texto.split(\"a\")"
   ]
  },
  {
   "cell_type": "code",
   "execution_count": 58,
   "metadata": {},
   "outputs": [
    {
     "data": {
      "text/plain": [
       "['Hol', ' fer como est', 's']"
      ]
     },
     "execution_count": 58,
     "metadata": {},
     "output_type": "execute_result"
    }
   ],
   "source": [
    "lista"
   ]
  },
  {
   "cell_type": "markdown",
   "metadata": {},
   "source": [
    "archivo CSV = comma separated values -> valores separados por coma"
   ]
  },
  {
   "cell_type": "code",
   "execution_count": 84,
   "metadata": {},
   "outputs": [],
   "source": [
    "lista = ['fernado,graffigna,42163068,$20000,$350','tomas,nozica,40728987,$4000,$1000']"
   ]
  },
  {
   "cell_type": "code",
   "execution_count": 85,
   "metadata": {},
   "outputs": [
    {
     "data": {
      "text/plain": [
       "['fernado,graffigna,42163068,$20000,$350', 'tomas,nozica,40728987,$4000,$1000']"
      ]
     },
     "execution_count": 85,
     "metadata": {},
     "output_type": "execute_result"
    }
   ],
   "source": [
    "lista"
   ]
  },
  {
   "cell_type": "code",
   "execution_count": 86,
   "metadata": {},
   "outputs": [],
   "source": [
    "i = 0\n",
    "for fila in lista:\n",
    "    lista[i]=fila.split(\",\")\n",
    "    i+=1"
   ]
  },
  {
   "cell_type": "code",
   "execution_count": 87,
   "metadata": {},
   "outputs": [],
   "source": [
    "def imprimir_montos(lista):\n",
    "    for fila in lista:\n",
    "        print(fila[3])"
   ]
  },
  {
   "cell_type": "code",
   "execution_count": 88,
   "metadata": {},
   "outputs": [
    {
     "name": "stdout",
     "output_type": "stream",
     "text": [
      "$20000\n",
      "$4000\n"
     ]
    }
   ],
   "source": [
    "imprimir_montos(lista)"
   ]
  },
  {
   "cell_type": "code",
   "execution_count": 90,
   "metadata": {},
   "outputs": [],
   "source": [
    "nombre=[\"fernado\",\"graffigna\"]"
   ]
  },
  {
   "cell_type": "code",
   "execution_count": 93,
   "metadata": {},
   "outputs": [],
   "source": [
    "string = \" \".join(nombre)"
   ]
  },
  {
   "cell_type": "code",
   "execution_count": 94,
   "metadata": {},
   "outputs": [
    {
     "data": {
      "text/plain": [
       "['fernado', 'graffigna']"
      ]
     },
     "execution_count": 94,
     "metadata": {},
     "output_type": "execute_result"
    }
   ],
   "source": [
    "string.split(\" \")"
   ]
  },
  {
   "cell_type": "code",
   "execution_count": 186,
   "metadata": {},
   "outputs": [],
   "source": [
    "filename = open(\"lectura.csv\",\"r\")"
   ]
  },
  {
   "cell_type": "code",
   "execution_count": 187,
   "metadata": {},
   "outputs": [
    {
     "name": "stdout",
     "output_type": "stream",
     "text": [
      "fernando,graffigna,1,20,60\n",
      "\n",
      "tomas,nozica,2,48,63\n",
      "\n",
      "martina,nozica,3,15,40\n",
      "\n",
      "guillermo,nozica,4,45,45\n"
     ]
    }
   ],
   "source": [
    "alumnos = []\n",
    "for alumno in filename.readlines():\n",
    "    print(alumno)\n",
    "    alumno = alumno.strip()\n",
    "    alumno = alumno.split(\",\")\n",
    "    alumno[2]=int(alumno[2])\n",
    "    alumno[3]=int(alumno[3])\n",
    "    alumno[4]=int(alumno[4])\n",
    "    alumnos.append(alumno)"
   ]
  },
  {
   "cell_type": "code",
   "execution_count": 188,
   "metadata": {},
   "outputs": [],
   "source": [
    "def alumnos_resta_recibirse(alumnos):\n",
    "    finales_restantes=[]\n",
    "    for fila in alumnos:\n",
    "        if fila[3]!=fila[4]:\n",
    "            restantes = fila[4]-fila[3]\n",
    "            finales_restantes.append(fila[0:2]+[restantes])\n",
    "    return finales_restantes"
   ]
  },
  {
   "cell_type": "code",
   "execution_count": 189,
   "metadata": {},
   "outputs": [
    {
     "data": {
      "text/plain": [
       "[['fernando', 'graffigna', 40],\n",
       " ['tomas', 'nozica', 15],\n",
       " ['martina', 'nozica', 25]]"
      ]
     },
     "execution_count": 189,
     "metadata": {},
     "output_type": "execute_result"
    }
   ],
   "source": [
    "alumnos_resta_recibirse(alumnos)"
   ]
  },
  {
   "cell_type": "code",
   "execution_count": 198,
   "metadata": {},
   "outputs": [],
   "source": []
  },
  {
   "cell_type": "code",
   "execution_count": 199,
   "metadata": {},
   "outputs": [
    {
     "data": {
      "text/plain": [
       "[['fernando', 'graffigna', 40],\n",
       " ['martina', 'nozica', 25],\n",
       " ['tomas', 'nozica', 15]]"
      ]
     },
     "execution_count": 199,
     "metadata": {},
     "output_type": "execute_result"
    }
   ],
   "source": []
  },
  {
   "cell_type": "code",
   "execution_count": null,
   "metadata": {},
   "outputs": [],
   "source": []
  }
 ],
 "metadata": {
  "kernelspec": {
   "display_name": "Python 3",
   "language": "python",
   "name": "python3"
  },
  "language_info": {
   "codemirror_mode": {
    "name": "ipython",
    "version": 3
   },
   "file_extension": ".py",
   "mimetype": "text/x-python",
   "name": "python",
   "nbconvert_exporter": "python",
   "pygments_lexer": "ipython3",
   "version": "3.8.3"
  }
 },
 "nbformat": 4,
 "nbformat_minor": 4
}
