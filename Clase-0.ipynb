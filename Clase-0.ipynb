{
 "cells": [
  {
   "cell_type": "markdown",
   "metadata": {},
   "source": [
    "# Clase 0: Conociendo Python\n",
    "\n",
    "Un buen libro introductorio para explorar el universo de las ciencias de la computacion:\n",
    "\n",
    "http://ce.sharif.edu/courses/97-98/2/ce153-3/resources/root/Text%20Books/An%20Introduction%20to%20Computer%20Science.pdf\n",
    "\n",
    "**¿Que vamos a ver en esta Clase 0?**\n",
    "\n",
    "- Hello World!\n",
    "- Input y Output\n",
    "- Tipos de datos\n",
    "- Funciones\n",
    "- Condicionales \n"
   ]
  },
  {
   "cell_type": "markdown",
   "metadata": {},
   "source": [
    "## Hello World!"
   ]
  },
  {
   "cell_type": "markdown",
   "metadata": {},
   "source": [
    "El *Hello World!* es el programa mas simple que se puede escribir en cualquier lenguaje, es muy comun encontrarlo en los ejemplos introductorios: una especie de *standard* de la industria para comenzar el aprendizaje de algun lenguaje."
   ]
  },
  {
   "cell_type": "code",
   "execution_count": null,
   "metadata": {},
   "outputs": [],
   "source": [
    "print(\"Hello World!\")"
   ]
  },
  {
   "cell_type": "markdown",
   "metadata": {},
   "source": [
    "La funcion ***print()*** siempre nos permitira mostrar por pantalla el o los valores que elijamos y, obviamente, se encuentren presente en nuestro programa"
   ]
  },
  {
   "cell_type": "code",
   "execution_count": null,
   "metadata": {},
   "outputs": [],
   "source": [
    "x = 5\n",
    "y = 6"
   ]
  },
  {
   "cell_type": "code",
   "execution_count": null,
   "metadata": {},
   "outputs": [],
   "source": [
    "print(x)"
   ]
  },
  {
   "cell_type": "code",
   "execution_count": null,
   "metadata": {},
   "outputs": [],
   "source": [
    "print(y)"
   ]
  },
  {
   "cell_type": "code",
   "execution_count": null,
   "metadata": {},
   "outputs": [],
   "source": [
    "print(z)\n",
    "#obviamente, no imprime aquello que no existe en el entorno del programa"
   ]
  },
  {
   "cell_type": "markdown",
   "metadata": {},
   "source": [
    "Se pueden dar multiples formatos dentro de la funcion ***print()***"
   ]
  },
  {
   "cell_type": "code",
   "execution_count": null,
   "metadata": {},
   "outputs": [],
   "source": [
    "x = \"Fer\"\n",
    "print(\"Hola,\", x)"
   ]
  },
  {
   "cell_type": "code",
   "execution_count": null,
   "metadata": {},
   "outputs": [],
   "source": [
    "print(\"Hola, \"+x)"
   ]
  },
  {
   "cell_type": "code",
   "execution_count": null,
   "metadata": {},
   "outputs": [],
   "source": [
    "x = \"Tomi\"\n",
    "# y ahora, que devuelve?\n",
    "print(\"Hola, \"+x)"
   ]
  },
  {
   "cell_type": "code",
   "execution_count": null,
   "metadata": {},
   "outputs": [],
   "source": [
    "x = 5\n",
    "y = 6\n",
    "#logicamente, soporta cualquier operacion matematica\n",
    "print(\"Suma de numeros:\",x+y)"
   ]
  },
  {
   "cell_type": "markdown",
   "metadata": {},
   "source": [
    "## Input y Output"
   ]
  },
  {
   "cell_type": "markdown",
   "metadata": {},
   "source": [
    "Un programa puede recibir un *ingreso* de datos y luego de procesarlos dar datos de *salida*. \n",
    "\n",
    "Todo aquello que \"ingrese\" sera un input.\n",
    "\n",
    "Todo aquello que sea \"salida\" sera un output."
   ]
  },
  {
   "cell_type": "code",
   "execution_count": null,
   "metadata": {},
   "outputs": [],
   "source": [
    "x = input()\n",
    "print(x)"
   ]
  },
  {
   "cell_type": "code",
   "execution_count": null,
   "metadata": {},
   "outputs": [],
   "source": [
    "x = input(\"Ingrese un dato: \")\n",
    "print(\"El dato es: \"+x)\n",
    "# ¿Que tipo de dato es el que ingresa?\n",
    "type(x)"
   ]
  },
  {
   "cell_type": "markdown",
   "metadata": {},
   "source": [
    "## Tipos de datos\n",
    "\n",
    "Podemos encontrar los siguientes tipos de datos basicos\n",
    "\n",
    "1. Datos Numericos\n",
    "    - enteros (int) EJ: 1,2,3,-1,0\n",
    "    - flotantes (float) EJ: 1.11,3.14,-2.57,3.0\n",
    "    - complejos (complex) EJ: 3+2j, 1+2j\n",
    "    \n",
    "2. Booleanos (variables de decision / logicas)\n",
    "    - verdadero (True)\n",
    "    - falso (False)\n",
    "    \n",
    "3. Caracteres\n",
    "    - caracter (char) EJ: 'a','c','d'\n",
    "    - palabra (str) EJ: 'hola','tomas'\n",
    "    \n",
    "4. Conjuntos\n",
    "    \n",
    "    *las veremos mas adelante*"
   ]
  },
  {
   "cell_type": "code",
   "execution_count": null,
   "metadata": {},
   "outputs": [],
   "source": [
    "type(5)"
   ]
  },
  {
   "cell_type": "code",
   "execution_count": null,
   "metadata": {},
   "outputs": [],
   "source": [
    "type(3.14)"
   ]
  },
  {
   "cell_type": "code",
   "execution_count": null,
   "metadata": {},
   "outputs": [],
   "source": [
    "type(3+2j)"
   ]
  },
  {
   "cell_type": "code",
   "execution_count": null,
   "metadata": {},
   "outputs": [],
   "source": [
    "type(True)"
   ]
  },
  {
   "cell_type": "code",
   "execution_count": null,
   "metadata": {},
   "outputs": [],
   "source": [
    "type(False)"
   ]
  },
  {
   "cell_type": "code",
   "execution_count": null,
   "metadata": {},
   "outputs": [],
   "source": [
    "type('a')"
   ]
  },
  {
   "cell_type": "code",
   "execution_count": null,
   "metadata": {},
   "outputs": [],
   "source": [
    "type('hola')"
   ]
  },
  {
   "cell_type": "markdown",
   "metadata": {},
   "source": [
    "Pero, ¿como? No era que 'a' es un caracter...\n",
    "Los string son por definicion una cadena de caracteres."
   ]
  },
  {
   "cell_type": "markdown",
   "metadata": {},
   "source": [
    "### Convirtiendo variables\n"
   ]
  },
  {
   "cell_type": "code",
   "execution_count": null,
   "metadata": {},
   "outputs": [],
   "source": [
    "a = 5.5\n",
    "int(a)"
   ]
  },
  {
   "cell_type": "code",
   "execution_count": null,
   "metadata": {},
   "outputs": [],
   "source": [
    "a = 5.8\n",
    "int(a)"
   ]
  },
  {
   "cell_type": "code",
   "execution_count": null,
   "metadata": {},
   "outputs": [],
   "source": [
    "a = 4\n",
    "float(a)"
   ]
  },
  {
   "cell_type": "code",
   "execution_count": null,
   "metadata": {},
   "outputs": [],
   "source": [
    "a = 97\n",
    "# y ahora?\n",
    "chr(a)"
   ]
  },
  {
   "attachments": {
    "python-basic-image-exercise-86.png": {
     "image/png": "[encoded data removed]"
    }
   },
   "cell_type": "markdown",
   "metadata": {},
   "source": [
    "![python-basic-image-exercise-86.png](attachment:python-basic-image-exercise-86.png)"
   ]
  },
  {
   "cell_type": "code",
   "execution_count": null,
   "metadata": {},
   "outputs": [],
   "source": [
    "a = 97\n",
    "chr(a-32)"
   ]
  },
  {
   "cell_type": "code",
   "execution_count": null,
   "metadata": {},
   "outputs": [],
   "source": [
    "ord('a')"
   ]
  },
  {
   "cell_type": "markdown",
   "metadata": {},
   "source": [
    "## Funciones"
   ]
  },
  {
   "cell_type": "markdown",
   "metadata": {},
   "source": [
    "Las funciones son una serie de pasos que opera con datos que son recibidos como input y ofrece una transformacion que puede o no dar datos de salida. \n",
    "\n",
    "Responden a un diseño previo realizado por el equipo de programadores o el programador.\n",
    "\n",
    "Deben ser\n",
    "\n",
    "- Conceptualmente acorde\n",
    "- Sintacticamente correcto\n",
    "- Declarativas\n"
   ]
  },
  {
   "cell_type": "code",
   "execution_count": null,
   "metadata": {},
   "outputs": [],
   "source": [
    "def suma(a,b):\n",
    "    return a+b"
   ]
  },
  {
   "cell_type": "code",
   "execution_count": null,
   "metadata": {},
   "outputs": [],
   "source": [
    "print(suma(5,6))"
   ]
  },
  {
   "cell_type": "code",
   "execution_count": null,
   "metadata": {},
   "outputs": [],
   "source": [
    "print(suma(4,3))"
   ]
  },
  {
   "cell_type": "code",
   "execution_count": null,
   "metadata": {},
   "outputs": [],
   "source": [
    "x = 2\n",
    "print(suma(x,x))"
   ]
  },
  {
   "cell_type": "code",
   "execution_count": null,
   "metadata": {},
   "outputs": [],
   "source": [
    "print(suma(x,x+2))"
   ]
  },
  {
   "cell_type": "code",
   "execution_count": null,
   "metadata": {},
   "outputs": [],
   "source": [
    "def div_dos(a):\n",
    "    num = a/2\n",
    "    return a/2==int(num)"
   ]
  },
  {
   "cell_type": "code",
   "execution_count": null,
   "metadata": {},
   "outputs": [],
   "source": [
    "def divisible_por_dos(num):\n",
    "    division_no_entera = num/2\n",
    "    division_entera = int(num/2)\n",
    "    return division_no_entera == division_entera"
   ]
  },
  {
   "cell_type": "code",
   "execution_count": null,
   "metadata": {},
   "outputs": [],
   "source": [
    "div_dos(5)"
   ]
  },
  {
   "cell_type": "code",
   "execution_count": null,
   "metadata": {},
   "outputs": [],
   "source": [
    "divisible_por_dos(5)"
   ]
  },
  {
   "cell_type": "code",
   "execution_count": null,
   "metadata": {},
   "outputs": [],
   "source": [
    "div_dos(8)"
   ]
  },
  {
   "cell_type": "code",
   "execution_count": null,
   "metadata": {},
   "outputs": [],
   "source": [
    "divisible_por_dos(8)"
   ]
  },
  {
   "cell_type": "markdown",
   "metadata": {},
   "source": [
    "## Condicionales\n",
    "\n",
    "### Conceptos sobre logica:\n",
    "\n",
    "Tenemos dos variables booleanas $X$ e $Y$, $X,Y=${$True,False$}\n",
    "\n",
    "__Operador AND__\n",
    "\n",
    "    X and Y\n",
    "\n",
    "         X    |     Y     |  Result\n",
    "      --------+-----------+----------\n",
    "        True  |   False   |   False\n",
    "        False |   True    |   False\n",
    "        False |   False   |   False\n",
    "        True  |   True    |   True\n",
    "\n",
    "__Operador OR__\n",
    "\n",
    "    X or Y\n",
    "\n",
    "         X    |     Y     |  Result\n",
    "      --------+-----------+----------\n",
    "        True  |   False   |   True\n",
    "        False |   True    |   True\n",
    "        False |   False   |   False\n",
    "        True  |   True    |   True\n",
    "\n",
    "__Operador NOT__\n",
    "\n",
    "    not X\n",
    "\n",
    "          X    |  Result\n",
    "       --------+---------\n",
    "        True   |   False\n",
    "        False  |   True\n",
    "\n",
    "\n",
    "### Comparaciones\n",
    "\n",
    "__De igualdad__\n",
    "\n",
    "    X == Y\n",
    "\n",
    "__De no igualdad__\n",
    "\n",
    "    X != Y\n",
    "    \n",
    "__De mayor y mayor igual__\n",
    "\n",
    "    X > Y\n",
    "    X >= Y\n",
    "\n",
    "__De menor y menor igual__\n",
    "\n",
    "    X < Y\n",
    "    X <= Y\n",
    "\n"
   ]
  },
  {
   "cell_type": "code",
   "execution_count": null,
   "metadata": {},
   "outputs": [],
   "source": [
    "X = 5\n",
    "Y = 7"
   ]
  },
  {
   "cell_type": "code",
   "execution_count": null,
   "metadata": {},
   "outputs": [],
   "source": [
    "X == Y"
   ]
  },
  {
   "cell_type": "code",
   "execution_count": null,
   "metadata": {},
   "outputs": [],
   "source": [
    "X == 5"
   ]
  },
  {
   "cell_type": "code",
   "execution_count": null,
   "metadata": {},
   "outputs": [],
   "source": [
    "Y == 6"
   ]
  },
  {
   "cell_type": "code",
   "execution_count": null,
   "metadata": {},
   "outputs": [],
   "source": [
    "X != Y"
   ]
  },
  {
   "cell_type": "code",
   "execution_count": null,
   "metadata": {},
   "outputs": [],
   "source": [
    "X != 5"
   ]
  },
  {
   "cell_type": "code",
   "execution_count": null,
   "metadata": {},
   "outputs": [],
   "source": [
    "Y != Y"
   ]
  },
  {
   "cell_type": "code",
   "execution_count": null,
   "metadata": {},
   "outputs": [],
   "source": [
    "Y == Y"
   ]
  },
  {
   "cell_type": "code",
   "execution_count": null,
   "metadata": {},
   "outputs": [],
   "source": [
    "not X == 5"
   ]
  },
  {
   "cell_type": "code",
   "execution_count": null,
   "metadata": {},
   "outputs": [],
   "source": [
    "X > 5"
   ]
  },
  {
   "cell_type": "code",
   "execution_count": null,
   "metadata": {},
   "outputs": [],
   "source": [
    "X >= 5"
   ]
  },
  {
   "cell_type": "code",
   "execution_count": null,
   "metadata": {},
   "outputs": [],
   "source": [
    "4 < Y"
   ]
  },
  {
   "cell_type": "code",
   "execution_count": null,
   "metadata": {},
   "outputs": [],
   "source": [
    "X <= Y"
   ]
  },
  {
   "cell_type": "code",
   "execution_count": null,
   "metadata": {},
   "outputs": [],
   "source": [
    "not X<=Y"
   ]
  },
  {
   "cell_type": "code",
   "execution_count": null,
   "metadata": {},
   "outputs": [],
   "source": [
    "(X//2 == X/2) or (X//3 == X/3) or (X//5 == X/5)"
   ]
  },
  {
   "cell_type": "markdown",
   "metadata": {},
   "source": [
    "## _If, Elif y Else\n",
    "\n",
    "Tal como su significado en ingles, se pueden usar estos condicionales para analizar distintos casos y operar cuando alguno de ellos es verdad\n",
    "\n",
    "La sintaxis es la siguiente\n",
    "\n",
    "    if 'condicion':\n",
    "        'hacer algo'\n",
    "    elif 'condicion':\n",
    "        'hacer algo'\n",
    "    ...\n",
    "    else:\n",
    "        'hacer algo'\n",
    "\n",
    "Los elif (else if) son para aquellas comparaciones que deseamos analizar mas de una condicion, por lo cual si nuestro estudio se satisface con un solo if, los elif no son empleados y no deben ser escritos en el codigo.\n"
   ]
  },
  {
   "cell_type": "code",
   "execution_count": null,
   "metadata": {},
   "outputs": [],
   "source": [
    "x = 5\n",
    "if x%2==0:\n",
    "    print(\"El numero es par\")\n",
    "else:\n",
    "    print(\"El numero es impar\")"
   ]
  },
  {
   "cell_type": "code",
   "execution_count": null,
   "metadata": {},
   "outputs": [],
   "source": [
    "x = 2.5\n",
    "if x < 3 or x==int(x):\n",
    "    print(\"El numero es menor a 3 o es un entero cualquiera\")\n",
    "elif x == 3:\n",
    "    print(\"El numero es 3\")\n",
    "elif x > 3:\n",
    "    print(\"El numero es mayor a 3\")"
   ]
  },
  {
   "cell_type": "markdown",
   "metadata": {},
   "source": [
    "## CHECKPOINT\n",
    "\n",
    "1. Realizar la funcion es_par(numero) que reciba un numero y retorne si es par (true) o impar (false)\n",
    "2. Realizar una funcion dividir(dividendo, divisor) que imprima el cociente y el resto de dividirlos\n",
    "3. Realizar una funcion es_mayor(a,b,c) que devuelva el numero mas grande entre a,b y c\n",
    "4. Realizar una funcion parte_del_num(num) que reciba un numero e imprima su parte entera y decimal. \n",
    "    EJ: parte_del_num(2.5) entera: 2 decimal: 0.5"
   ]
  },
  {
   "cell_type": "markdown",
   "metadata": {},
   "source": [
    "### EJERCICIO 1"
   ]
  },
  {
   "cell_type": "code",
   "execution_count": null,
   "metadata": {},
   "outputs": [],
   "source": [
    "def es_par(num):\n",
    "    if num%2 != 0:\n",
    "        return False\n",
    "    else:\n",
    "        return True"
   ]
  },
  {
   "cell_type": "code",
   "execution_count": null,
   "metadata": {},
   "outputs": [],
   "source": [
    "es_par(4)"
   ]
  },
  {
   "cell_type": "markdown",
   "metadata": {},
   "source": [
    "### EJERCICIO 2"
   ]
  },
  {
   "cell_type": "code",
   "execution_count": null,
   "metadata": {},
   "outputs": [],
   "source": [
    "def dividir(dividendo, divisor):\n",
    "    cociente = dividendo // divisor\n",
    "    resto = dividendo % divisor\n",
    "    print(\"El cociente es: \",cociente)\n",
    "    print(\"El resto es: \",resto)"
   ]
  },
  {
   "cell_type": "code",
   "execution_count": null,
   "metadata": {},
   "outputs": [],
   "source": [
    "dividir(5,2)"
   ]
  },
  {
   "cell_type": "markdown",
   "metadata": {},
   "source": [
    "### EJERCICIO 3"
   ]
  },
  {
   "cell_type": "code",
   "execution_count": null,
   "metadata": {},
   "outputs": [],
   "source": [
    "def es_mayor(a,b,c):\n",
    "    if a > b and a > c:\n",
    "        return a\n",
    "    elif b > a and b > c:\n",
    "        return b\n",
    "    elif c > a and c > a:\n",
    "        return c\n",
    "    else:\n",
    "        return 'los numeros son iguales'"
   ]
  },
  {
   "cell_type": "code",
   "execution_count": null,
   "metadata": {},
   "outputs": [],
   "source": [
    "es_mayor(3,5,4)"
   ]
  },
  {
   "cell_type": "code",
   "execution_count": null,
   "metadata": {},
   "outputs": [],
   "source": [
    "es_mayor(4,3,2)"
   ]
  },
  {
   "cell_type": "code",
   "execution_count": null,
   "metadata": {},
   "outputs": [],
   "source": [
    "es_mayor(1,3,5)"
   ]
  },
  {
   "cell_type": "code",
   "execution_count": null,
   "metadata": {},
   "outputs": [],
   "source": [
    "es_mayor(2,2,2)"
   ]
  },
  {
   "cell_type": "markdown",
   "metadata": {},
   "source": [
    "### EJERCICIO 4"
   ]
  },
  {
   "cell_type": "code",
   "execution_count": null,
   "metadata": {},
   "outputs": [],
   "source": [
    "def parte_del_num(num):\n",
    "    parte_entera = int(num)\n",
    "    parte_decimal = num - parte_entera\n",
    "    print(\"Parte entera:\",parte_entera)\n",
    "    print(\"Parte decimal:\",parte_decimal)"
   ]
  },
  {
   "cell_type": "code",
   "execution_count": null,
   "metadata": {},
   "outputs": [],
   "source": [
    "parte_del_num(4.5)"
   ]
  },
  {
   "cell_type": "code",
   "execution_count": null,
   "metadata": {},
   "outputs": [],
   "source": [
    "parte_del_num(3.4)"
   ]
  },
  {
   "cell_type": "markdown",
   "metadata": {},
   "source": [
    "*DATO*: Ciertos numeros decimales son **imposibles** de representar en computadora, el caso del 0.4 es uno de ellos. \n",
    "\n",
    "Si queres saber mas sobre la representacion de numeros en computadoras ver 'Aritmetica del punto flotante'"
   ]
  },
  {
   "cell_type": "code",
   "execution_count": null,
   "metadata": {},
   "outputs": [],
   "source": []
  }
 ],
 "metadata": {
  "kernelspec": {
   "display_name": "Python 3",
   "language": "python",
   "name": "python3"
  },
  "language_info": {
   "codemirror_mode": {
    "name": "ipython",
    "version": 3
   },
   "file_extension": ".py",
   "mimetype": "text/x-python",
   "name": "python",
   "nbconvert_exporter": "python",
   "pygments_lexer": "ipython3",
   "version": "3.8.3"
  }
 },
 "nbformat": 4,
 "nbformat_minor": 4
}
